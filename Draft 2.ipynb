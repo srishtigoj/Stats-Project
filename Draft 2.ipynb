{
 "cells": [
  {
   "cell_type": "code",
   "execution_count": 1,
   "id": "d906c731-1139-495d-9be4-a82d92ebb520",
   "metadata": {},
   "outputs": [
    {
     "name": "stderr",
     "output_type": "stream",
     "text": [
      "── \u001b[1mAttaching packages\u001b[22m ─────────────────────────────────────── tidyverse 1.3.0 ──\n",
      "\n",
      "\u001b[32m✔\u001b[39m \u001b[34mggplot2\u001b[39m 3.5.1     \u001b[32m✔\u001b[39m \u001b[34mpurrr  \u001b[39m 1.0.2\n",
      "\u001b[32m✔\u001b[39m \u001b[34mtibble \u001b[39m 3.2.1     \u001b[32m✔\u001b[39m \u001b[34mdplyr  \u001b[39m 1.1.4\n",
      "\u001b[32m✔\u001b[39m \u001b[34mtidyr  \u001b[39m 1.3.1     \u001b[32m✔\u001b[39m \u001b[34mstringr\u001b[39m 1.5.1\n",
      "\u001b[32m✔\u001b[39m \u001b[34mreadr  \u001b[39m 2.1.5     \u001b[32m✔\u001b[39m \u001b[34mforcats\u001b[39m 1.0.0\n",
      "\n",
      "── \u001b[1mConflicts\u001b[22m ────────────────────────────────────────── tidyverse_conflicts() ──\n",
      "\u001b[31m✖\u001b[39m \u001b[34mdplyr\u001b[39m::\u001b[32mfilter()\u001b[39m masks \u001b[34mstats\u001b[39m::filter()\n",
      "\u001b[31m✖\u001b[39m \u001b[34mdplyr\u001b[39m::\u001b[32mlag()\u001b[39m    masks \u001b[34mstats\u001b[39m::lag()\n",
      "\n",
      "\n",
      "Attaching package: ‘ggdag’\n",
      "\n",
      "\n",
      "The following object is masked from ‘package:stats’:\n",
      "\n",
      "    filter\n",
      "\n",
      "\n",
      "\n",
      "Attaching package: ‘gridExtra’\n",
      "\n",
      "\n",
      "The following object is masked from ‘package:dplyr’:\n",
      "\n",
      "    combine\n",
      "\n",
      "\n",
      "Registered S3 method overwritten by 'GGally':\n",
      "  method from   \n",
      "  +.gg   ggplot2\n",
      "\n"
     ]
    }
   ],
   "source": [
    "library(tidyverse)\n",
    "library(dplyr)\n",
    "library(ggplot2)\n",
    "library(ggdag)\n",
    "library(gridExtra)\n",
    "library(GGally)\n",
    "library(fastDummies)"
   ]
  },
  {
   "cell_type": "code",
   "execution_count": 3,
   "id": "47682bfa-9c71-4202-be24-0f0c8701f364",
   "metadata": {},
   "outputs": [
    {
     "data": {
      "text/html": [
       "<table class=\"dataframe\">\n",
       "<caption>A data.frame: 6 × 12</caption>\n",
       "<thead>\n",
       "\t<tr><th></th><th scope=col>age</th><th scope=col>gender</th><th scope=col>time_spent</th><th scope=col>platform</th><th scope=col>interests</th><th scope=col>location</th><th scope=col>demographics</th><th scope=col>profession</th><th scope=col>income</th><th scope=col>indebt</th><th scope=col>isHomeOwner</th><th scope=col>Owns_Car</th></tr>\n",
       "\t<tr><th></th><th scope=col>&lt;int&gt;</th><th scope=col>&lt;chr&gt;</th><th scope=col>&lt;int&gt;</th><th scope=col>&lt;chr&gt;</th><th scope=col>&lt;chr&gt;</th><th scope=col>&lt;chr&gt;</th><th scope=col>&lt;chr&gt;</th><th scope=col>&lt;chr&gt;</th><th scope=col>&lt;int&gt;</th><th scope=col>&lt;chr&gt;</th><th scope=col>&lt;chr&gt;</th><th scope=col>&lt;chr&gt;</th></tr>\n",
       "</thead>\n",
       "<tbody>\n",
       "\t<tr><th scope=row>1</th><td>56</td><td>male      </td><td>3</td><td>Instagram</td><td>Sports   </td><td>United Kingdom</td><td>Urban    </td><td>Software Engineer</td><td>19774</td><td>True </td><td>False</td><td>False</td></tr>\n",
       "\t<tr><th scope=row>2</th><td>46</td><td>female    </td><td>2</td><td>Facebook </td><td>Travel   </td><td>United Kingdom</td><td>Urban    </td><td>Student          </td><td>10564</td><td>True </td><td>True </td><td>True </td></tr>\n",
       "\t<tr><th scope=row>3</th><td>32</td><td>male      </td><td>8</td><td>Instagram</td><td>Sports   </td><td>Australia     </td><td>Sub_Urban</td><td>Marketer Manager </td><td>13258</td><td>False</td><td>False</td><td>False</td></tr>\n",
       "\t<tr><th scope=row>4</th><td>60</td><td>non-binary</td><td>5</td><td>Instagram</td><td>Travel   </td><td>United Kingdom</td><td>Urban    </td><td>Student          </td><td>12500</td><td>False</td><td>True </td><td>False</td></tr>\n",
       "\t<tr><th scope=row>5</th><td>25</td><td>male      </td><td>1</td><td>Instagram</td><td>Lifestlye</td><td>Australia     </td><td>Urban    </td><td>Software Engineer</td><td>14566</td><td>False</td><td>True </td><td>True </td></tr>\n",
       "\t<tr><th scope=row>6</th><td>38</td><td>male      </td><td>3</td><td>Facebook </td><td>Travel   </td><td>United States </td><td>Urban    </td><td>Marketer Manager </td><td>19179</td><td>True </td><td>True </td><td>True </td></tr>\n",
       "</tbody>\n",
       "</table>\n"
      ],
      "text/latex": [
       "A data.frame: 6 × 12\n",
       "\\begin{tabular}{r|llllllllllll}\n",
       "  & age & gender & time\\_spent & platform & interests & location & demographics & profession & income & indebt & isHomeOwner & Owns\\_Car\\\\\n",
       "  & <int> & <chr> & <int> & <chr> & <chr> & <chr> & <chr> & <chr> & <int> & <chr> & <chr> & <chr>\\\\\n",
       "\\hline\n",
       "\t1 & 56 & male       & 3 & Instagram & Sports    & United Kingdom & Urban     & Software Engineer & 19774 & True  & False & False\\\\\n",
       "\t2 & 46 & female     & 2 & Facebook  & Travel    & United Kingdom & Urban     & Student           & 10564 & True  & True  & True \\\\\n",
       "\t3 & 32 & male       & 8 & Instagram & Sports    & Australia      & Sub\\_Urban & Marketer Manager  & 13258 & False & False & False\\\\\n",
       "\t4 & 60 & non-binary & 5 & Instagram & Travel    & United Kingdom & Urban     & Student           & 12500 & False & True  & False\\\\\n",
       "\t5 & 25 & male       & 1 & Instagram & Lifestlye & Australia      & Urban     & Software Engineer & 14566 & False & True  & True \\\\\n",
       "\t6 & 38 & male       & 3 & Facebook  & Travel    & United States  & Urban     & Marketer Manager  & 19179 & True  & True  & True \\\\\n",
       "\\end{tabular}\n"
      ],
      "text/markdown": [
       "\n",
       "A data.frame: 6 × 12\n",
       "\n",
       "| <!--/--> | age &lt;int&gt; | gender &lt;chr&gt; | time_spent &lt;int&gt; | platform &lt;chr&gt; | interests &lt;chr&gt; | location &lt;chr&gt; | demographics &lt;chr&gt; | profession &lt;chr&gt; | income &lt;int&gt; | indebt &lt;chr&gt; | isHomeOwner &lt;chr&gt; | Owns_Car &lt;chr&gt; |\n",
       "|---|---|---|---|---|---|---|---|---|---|---|---|---|\n",
       "| 1 | 56 | male       | 3 | Instagram | Sports    | United Kingdom | Urban     | Software Engineer | 19774 | True  | False | False |\n",
       "| 2 | 46 | female     | 2 | Facebook  | Travel    | United Kingdom | Urban     | Student           | 10564 | True  | True  | True  |\n",
       "| 3 | 32 | male       | 8 | Instagram | Sports    | Australia      | Sub_Urban | Marketer Manager  | 13258 | False | False | False |\n",
       "| 4 | 60 | non-binary | 5 | Instagram | Travel    | United Kingdom | Urban     | Student           | 12500 | False | True  | False |\n",
       "| 5 | 25 | male       | 1 | Instagram | Lifestlye | Australia      | Urban     | Software Engineer | 14566 | False | True  | True  |\n",
       "| 6 | 38 | male       | 3 | Facebook  | Travel    | United States  | Urban     | Marketer Manager  | 19179 | True  | True  | True  |\n",
       "\n"
      ],
      "text/plain": [
       "  age gender     time_spent platform  interests location       demographics\n",
       "1 56  male       3          Instagram Sports    United Kingdom Urban       \n",
       "2 46  female     2          Facebook  Travel    United Kingdom Urban       \n",
       "3 32  male       8          Instagram Sports    Australia      Sub_Urban   \n",
       "4 60  non-binary 5          Instagram Travel    United Kingdom Urban       \n",
       "5 25  male       1          Instagram Lifestlye Australia      Urban       \n",
       "6 38  male       3          Facebook  Travel    United States  Urban       \n",
       "  profession        income indebt isHomeOwner Owns_Car\n",
       "1 Software Engineer 19774  True   False       False   \n",
       "2 Student           10564  True   True        True    \n",
       "3 Marketer Manager  13258  False  False       False   \n",
       "4 Student           12500  False  True        False   \n",
       "5 Software Engineer 14566  False  True        True    \n",
       "6 Marketer Manager  19179  True   True        True    "
      ]
     },
     "metadata": {},
     "output_type": "display_data"
    }
   ],
   "source": [
    "data <- read.csv(\"dummy_data.csv\")\n",
    "head(data)"
   ]
  },
  {
   "cell_type": "code",
   "execution_count": 4,
   "id": "577b7f57-6fa1-4914-8b03-ca1e69e81031",
   "metadata": {},
   "outputs": [
    {
     "data": {
      "text/plain": [
       "\n",
       "Call:\n",
       "lm(formula = time_spent ~ ., data = data)\n",
       "\n",
       "Residuals:\n",
       "   Min     1Q Median     3Q    Max \n",
       "-4.733 -2.136 -0.030  2.177  4.570 \n",
       "\n",
       "Coefficients:\n",
       "                              Estimate Std. Error t value Pr(>|t|)    \n",
       "(Intercept)                  5.709e+00  6.065e-01   9.412   <2e-16 ***\n",
       "age                         -5.777e-03  5.975e-03  -0.967   0.3339    \n",
       "gendermale                  -3.678e-01  1.975e-01  -1.863   0.0628 .  \n",
       "gendernon-binary            -1.245e-01  1.986e-01  -0.627   0.5308    \n",
       "platformInstagram            7.106e-02  1.989e-01   0.357   0.7210    \n",
       "platformYouTube             -2.552e-01  2.031e-01  -1.256   0.2092    \n",
       "interestsSports             -3.099e-01  1.976e-01  -1.568   0.1172    \n",
       "interestsTravel              1.264e-03  1.972e-01   0.006   0.9949    \n",
       "locationUnited Kingdom      -3.017e-01  1.955e-01  -1.543   0.1231    \n",
       "locationUnited States       -2.609e-01  1.966e-01  -1.327   0.1847    \n",
       "demographicsSub_Urban        2.011e-01  1.969e-01   1.021   0.3074    \n",
       "demographicsUrban           -2.579e-01  1.984e-01  -1.300   0.1938    \n",
       "professionSoftware Engineer -1.334e-01  1.934e-01  -0.690   0.4903    \n",
       "professionStudent           -4.166e-02  1.985e-01  -0.210   0.8338    \n",
       "income                       4.995e-06  2.747e-05   0.182   0.8558    \n",
       "indebtTrue                   7.188e-02  1.617e-01   0.444   0.6568    \n",
       "isHomeOwnerTrue              1.366e-01  1.614e-01   0.846   0.3978    \n",
       "Owns_CarTrue                -7.553e-02  1.627e-01  -0.464   0.6425    \n",
       "---\n",
       "Signif. codes:  0 ‘***’ 0.001 ‘**’ 0.01 ‘*’ 0.05 ‘.’ 0.1 ‘ ’ 1\n",
       "\n",
       "Residual standard error: 2.533 on 982 degrees of freedom\n",
       "Multiple R-squared:  0.02069,\tAdjusted R-squared:  0.003741 \n",
       "F-statistic: 1.221 on 17 and 982 DF,  p-value: 0.2404\n"
      ]
     },
     "metadata": {},
     "output_type": "display_data"
    }
   ],
   "source": [
    "model <- lm(time_spent ~  ., data=data)\n",
    "summary(model)"
   ]
  },
  {
   "cell_type": "code",
   "execution_count": null,
   "id": "c9552a15-e2d7-42a9-af47-a33dc64c4fcc",
   "metadata": {},
   "outputs": [],
   "source": []
  }
 ],
 "metadata": {
  "kernelspec": {
   "display_name": "R",
   "language": "R",
   "name": "ir"
  },
  "language_info": {
   "codemirror_mode": "r",
   "file_extension": ".r",
   "mimetype": "text/x-r-source",
   "name": "R",
   "pygments_lexer": "r",
   "version": "4.4.1"
  }
 },
 "nbformat": 4,
 "nbformat_minor": 5
}
