{
 "cells": [
  {
   "cell_type": "markdown",
   "id": "2fe8e851-a70a-4a3d-b33c-fdf840327a06",
   "metadata": {},
   "source": [
    "# COMPSS 212: Final Group Project\n",
    "## Why do you waste so much time on social media?\n",
    "\n",
    "#### by Alex Liu, Shaily Bajracharya, and Srishti Gojamgunde"
   ]
  },
  {
   "cell_type": "code",
   "execution_count": null,
   "id": "55ea4da5-950e-4ec9-b066-522214f2f739",
   "metadata": {},
   "outputs": [],
   "source": []
  }
 ],
 "metadata": {
  "kernelspec": {
   "display_name": "R",
   "language": "R",
   "name": "ir"
  },
  "language_info": {
   "codemirror_mode": "r",
   "file_extension": ".r",
   "mimetype": "text/x-r-source",
   "name": "R",
   "pygments_lexer": "r",
   "version": "4.4.1"
  }
 },
 "nbformat": 4,
 "nbformat_minor": 5
}
