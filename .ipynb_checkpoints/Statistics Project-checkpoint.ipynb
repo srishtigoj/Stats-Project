{
 "cells": [
  {
   "cell_type": "markdown",
   "id": "2fe8e851-a70a-4a3d-b33c-fdf840327a06",
   "metadata": {},
   "source": [
    "# COMPSS 212: Final Group Project\n",
    "## Why dissociate?\n",
    "\n",
    "#### by Alex Liu, Shaily Bajracharya, and Srishti Gojamgunde"
   ]
  },
  {
   "cell_type": "code",
   "execution_count": 8,
   "id": "55ea4da5-950e-4ec9-b066-522214f2f739",
   "metadata": {},
   "outputs": [
    {
     "data": {
      "text/html": [
       "<table class=\"dataframe\">\n",
       "<caption>A data.frame: 6 × 12</caption>\n",
       "<thead>\n",
       "\t<tr><th></th><th scope=col>Age</th><th scope=col>Sex</th><th scope=col>Heterosexual</th><th scope=col>Education</th><th scope=col>RelatonshipStatus</th><th scope=col>DPDR</th><th scope=col>Agency</th><th scope=col>Experience</th><th scope=col>Mind.Perception</th><th scope=col>Self.Agency</th><th scope=col>Self.Experience</th><th scope=col>Self.MP</th></tr>\n",
       "\t<tr><th></th><th scope=col>&lt;dbl&gt;</th><th scope=col>&lt;chr&gt;</th><th scope=col>&lt;chr&gt;</th><th scope=col>&lt;chr&gt;</th><th scope=col>&lt;chr&gt;</th><th scope=col>&lt;dbl&gt;</th><th scope=col>&lt;dbl&gt;</th><th scope=col>&lt;dbl&gt;</th><th scope=col>&lt;dbl&gt;</th><th scope=col>&lt;int&gt;</th><th scope=col>&lt;int&gt;</th><th scope=col>&lt;dbl&gt;</th></tr>\n",
       "</thead>\n",
       "<tbody>\n",
       "\t<tr><th scope=row>1</th><td>19</td><td>Female</td><td>No </td><td>High school         </td><td>In a relationship</td><td>4.10</td><td>56.69</td><td>58.31</td><td>57.50</td><td>0</td><td>0</td><td>0</td></tr>\n",
       "\t<tr><th scope=row>2</th><td>20</td><td>Female</td><td>Yes</td><td>High school         </td><td>In a relationship</td><td>1.63</td><td>68.62</td><td>69.23</td><td>68.92</td><td>0</td><td>0</td><td>0</td></tr>\n",
       "\t<tr><th scope=row>3</th><td>20</td><td>Female</td><td>Yes</td><td>Undergraduate Degree</td><td>In a relationship</td><td>2.97</td><td>77.46</td><td>80.77</td><td>79.12</td><td>0</td><td>0</td><td>0</td></tr>\n",
       "\t<tr><th scope=row>4</th><td>21</td><td>Male  </td><td>No </td><td>High school         </td><td>Single           </td><td>3.33</td><td>77.23</td><td>62.15</td><td>69.69</td><td>0</td><td>0</td><td>0</td></tr>\n",
       "\t<tr><th scope=row>5</th><td>19</td><td>Female</td><td>Yes</td><td>High school         </td><td>Single           </td><td>3.67</td><td>63.31</td><td>52.15</td><td>57.73</td><td>0</td><td>0</td><td>0</td></tr>\n",
       "\t<tr><th scope=row>6</th><td>19</td><td>Female</td><td>Yes</td><td>High school         </td><td>In a relationship</td><td>2.30</td><td>55.85</td><td>59.46</td><td>57.65</td><td>0</td><td>0</td><td>0</td></tr>\n",
       "</tbody>\n",
       "</table>\n"
      ],
      "text/latex": [
       "A data.frame: 6 × 12\n",
       "\\begin{tabular}{r|llllllllllll}\n",
       "  & Age & Sex & Heterosexual & Education & RelatonshipStatus & DPDR & Agency & Experience & Mind.Perception & Self.Agency & Self.Experience & Self.MP\\\\\n",
       "  & <dbl> & <chr> & <chr> & <chr> & <chr> & <dbl> & <dbl> & <dbl> & <dbl> & <int> & <int> & <dbl>\\\\\n",
       "\\hline\n",
       "\t1 & 19 & Female & No  & High school          & In a relationship & 4.10 & 56.69 & 58.31 & 57.50 & 0 & 0 & 0\\\\\n",
       "\t2 & 20 & Female & Yes & High school          & In a relationship & 1.63 & 68.62 & 69.23 & 68.92 & 0 & 0 & 0\\\\\n",
       "\t3 & 20 & Female & Yes & Undergraduate Degree & In a relationship & 2.97 & 77.46 & 80.77 & 79.12 & 0 & 0 & 0\\\\\n",
       "\t4 & 21 & Male   & No  & High school          & Single            & 3.33 & 77.23 & 62.15 & 69.69 & 0 & 0 & 0\\\\\n",
       "\t5 & 19 & Female & Yes & High school          & Single            & 3.67 & 63.31 & 52.15 & 57.73 & 0 & 0 & 0\\\\\n",
       "\t6 & 19 & Female & Yes & High school          & In a relationship & 2.30 & 55.85 & 59.46 & 57.65 & 0 & 0 & 0\\\\\n",
       "\\end{tabular}\n"
      ],
      "text/markdown": [
       "\n",
       "A data.frame: 6 × 12\n",
       "\n",
       "| <!--/--> | Age &lt;dbl&gt; | Sex &lt;chr&gt; | Heterosexual &lt;chr&gt; | Education &lt;chr&gt; | RelatonshipStatus &lt;chr&gt; | DPDR &lt;dbl&gt; | Agency &lt;dbl&gt; | Experience &lt;dbl&gt; | Mind.Perception &lt;dbl&gt; | Self.Agency &lt;int&gt; | Self.Experience &lt;int&gt; | Self.MP &lt;dbl&gt; |\n",
       "|---|---|---|---|---|---|---|---|---|---|---|---|---|\n",
       "| 1 | 19 | Female | No  | High school          | In a relationship | 4.10 | 56.69 | 58.31 | 57.50 | 0 | 0 | 0 |\n",
       "| 2 | 20 | Female | Yes | High school          | In a relationship | 1.63 | 68.62 | 69.23 | 68.92 | 0 | 0 | 0 |\n",
       "| 3 | 20 | Female | Yes | Undergraduate Degree | In a relationship | 2.97 | 77.46 | 80.77 | 79.12 | 0 | 0 | 0 |\n",
       "| 4 | 21 | Male   | No  | High school          | Single            | 3.33 | 77.23 | 62.15 | 69.69 | 0 | 0 | 0 |\n",
       "| 5 | 19 | Female | Yes | High school          | Single            | 3.67 | 63.31 | 52.15 | 57.73 | 0 | 0 | 0 |\n",
       "| 6 | 19 | Female | Yes | High school          | In a relationship | 2.30 | 55.85 | 59.46 | 57.65 | 0 | 0 | 0 |\n",
       "\n"
      ],
      "text/plain": [
       "  Age Sex    Heterosexual Education            RelatonshipStatus DPDR Agency\n",
       "1 19  Female No           High school          In a relationship 4.10 56.69 \n",
       "2 20  Female Yes          High school          In a relationship 1.63 68.62 \n",
       "3 20  Female Yes          Undergraduate Degree In a relationship 2.97 77.46 \n",
       "4 21  Male   No           High school          Single            3.33 77.23 \n",
       "5 19  Female Yes          High school          Single            3.67 63.31 \n",
       "6 19  Female Yes          High school          In a relationship 2.30 55.85 \n",
       "  Experience Mind.Perception Self.Agency Self.Experience Self.MP\n",
       "1 58.31      57.50           0           0               0      \n",
       "2 69.23      68.92           0           0               0      \n",
       "3 80.77      79.12           0           0               0      \n",
       "4 62.15      69.69           0           0               0      \n",
       "5 52.15      57.73           0           0               0      \n",
       "6 59.46      57.65           0           0               0      "
      ]
     },
     "metadata": {},
     "output_type": "display_data"
    }
   ],
   "source": [
    "data <- read.csv(\"DPDR.csv\")\n",
    "head(data)"
   ]
  },
  {
   "cell_type": "code",
   "execution_count": 11,
   "id": "e4235152-231e-4ed8-9619-f54f395ec954",
   "metadata": {},
   "outputs": [
    {
     "data": {
      "text/plain": [
       "\n",
       "Call:\n",
       "lm(formula = DPDR ~ Mind.Perception + Self.MP + Age + Sex + Heterosexual + \n",
       "    Education + RelatonshipStatus, data = data)\n",
       "\n",
       "Residuals:\n",
       "     Min       1Q   Median       3Q      Max \n",
       "-1.69269 -0.57213 -0.02708  0.50343  2.68984 \n",
       "\n",
       "Coefficients:\n",
       "                                      Estimate Std. Error t value Pr(>|t|)    \n",
       "(Intercept)                           4.670407   0.396269  11.786  < 2e-16 ***\n",
       "Mind.Perception                      -0.006248   0.003882  -1.610   0.1082    \n",
       "Self.MP                              -0.008658   0.001291  -6.708 6.22e-11 ***\n",
       "Age                                  -0.035001   0.014316  -2.445   0.0149 *  \n",
       "SexMale                               0.097569   0.081201   1.202   0.2302    \n",
       "SexOther                              0.175906   0.320147   0.549   0.5830    \n",
       "HeterosexualYes                      -0.217058   0.093514  -2.321   0.0207 *  \n",
       "EducationMaster's or Graduate Degree  1.953114   0.790071   2.472   0.0138 *  \n",
       "EducationPost-Secondary Diploma       0.157373   0.154549   1.018   0.3091    \n",
       "EducationUndergraduate Degree         0.063671   0.103126   0.617   0.5373    \n",
       "RelatonshipStatusMarried              0.146577   0.394799   0.371   0.7106    \n",
       "RelatonshipStatusSeparated           -0.069077   0.874207  -0.079   0.9371    \n",
       "RelatonshipStatusSingle               0.047732   0.076761   0.622   0.5344    \n",
       "---\n",
       "Signif. codes:  0 ‘***’ 0.001 ‘**’ 0.01 ‘*’ 0.05 ‘.’ 0.1 ‘ ’ 1\n",
       "\n",
       "Residual standard error: 0.755 on 432 degrees of freedom\n",
       "Multiple R-squared:  0.1409,\tAdjusted R-squared:  0.117 \n",
       "F-statistic: 5.904 on 12 and 432 DF,  p-value: 1.529e-09\n"
      ]
     },
     "metadata": {},
     "output_type": "display_data"
    }
   ],
   "source": [
    "model <- lm(DPDR ~ Mind.Perception + Self.MP + Age +Sex + Heterosexual + Education + RelatonshipStatus, data = data)\n",
    "summary(model)"
   ]
  },
  {
   "cell_type": "code",
   "execution_count": null,
   "id": "980a20bd-7da2-40c7-9f12-4e67f468e8ae",
   "metadata": {},
   "outputs": [],
   "source": []
  }
 ],
 "metadata": {
  "kernelspec": {
   "display_name": "R",
   "language": "R",
   "name": "ir"
  },
  "language_info": {
   "codemirror_mode": "r",
   "file_extension": ".r",
   "mimetype": "text/x-r-source",
   "name": "R",
   "pygments_lexer": "r",
   "version": "4.4.1"
  }
 },
 "nbformat": 4,
 "nbformat_minor": 5
}
