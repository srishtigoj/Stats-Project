{
 "cells": [
  {
   "cell_type": "markdown",
   "id": "ce4e7183-06b1-46c2-80fe-48606300eda9",
   "metadata": {},
   "source": [
    "## Kisses"
   ]
  },
  {
   "cell_type": "code",
   "execution_count": 1,
   "id": "e9771d18-eb09-4f1a-941f-4ed0e6be981c",
   "metadata": {},
   "outputs": [
    {
     "data": {
      "text/html": [
       "'cute'"
      ],
      "text/latex": [
       "'cute'"
      ],
      "text/markdown": [
       "'cute'"
      ],
      "text/plain": [
       "[1] \"cute\""
      ]
     },
     "metadata": {},
     "output_type": "display_data"
    }
   ],
   "source": [
    "shaily <- \"cute\"\n",
    "shaily"
   ]
  },
  {
   "cell_type": "code",
   "execution_count": null,
   "id": "1d7012b6-9a73-45ba-832c-af4957115fd6",
   "metadata": {},
   "outputs": [],
   "source": []
  }
 ],
 "metadata": {
  "kernelspec": {
   "display_name": "R",
   "language": "R",
   "name": "ir"
  },
  "language_info": {
   "codemirror_mode": "r",
   "file_extension": ".r",
   "mimetype": "text/x-r-source",
   "name": "R",
   "pygments_lexer": "r",
   "version": "4.4.1"
  }
 },
 "nbformat": 4,
 "nbformat_minor": 5
}
