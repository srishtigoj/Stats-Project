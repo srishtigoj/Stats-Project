{
 "cells": [
  {
   "cell_type": "markdown",
   "id": "2fe8e851-a70a-4a3d-b33c-fdf840327a06",
   "metadata": {},
   "source": [
    "# COMPSS 212: Final Group Project\n",
    "## Why dissociate?\n",
    "\n",
    "#### by Alex Liu, Shaily Bajracharya, and Srishti Gojamgunde"
   ]
  },
  {
   "cell_type": "code",
   "execution_count": 2,
   "id": "55ea4da5-950e-4ec9-b066-522214f2f739",
   "metadata": {},
   "outputs": [
    {
     "data": {
      "text/html": [
       "<table class=\"dataframe\">\n",
       "<caption>A data.frame: 6 × 12</caption>\n",
       "<thead>\n",
       "\t<tr><th></th><th scope=col>Age</th><th scope=col>Sex</th><th scope=col>Heterosexual</th><th scope=col>Education</th><th scope=col>RelatonshipStatus</th><th scope=col>DPDR</th><th scope=col>Agency</th><th scope=col>Experience</th><th scope=col>Mind.Perception</th><th scope=col>Self.Agency</th><th scope=col>Self.Experience</th><th scope=col>Self.MP</th></tr>\n",
       "\t<tr><th></th><th scope=col>&lt;dbl&gt;</th><th scope=col>&lt;chr&gt;</th><th scope=col>&lt;chr&gt;</th><th scope=col>&lt;chr&gt;</th><th scope=col>&lt;chr&gt;</th><th scope=col>&lt;dbl&gt;</th><th scope=col>&lt;dbl&gt;</th><th scope=col>&lt;dbl&gt;</th><th scope=col>&lt;dbl&gt;</th><th scope=col>&lt;int&gt;</th><th scope=col>&lt;int&gt;</th><th scope=col>&lt;dbl&gt;</th></tr>\n",
       "</thead>\n",
       "<tbody>\n",
       "\t<tr><th scope=row>1</th><td>19</td><td>Female</td><td>No </td><td>High school         </td><td>In a relationship</td><td>4.10</td><td>56.69</td><td>58.31</td><td>57.50</td><td>0</td><td>0</td><td>0</td></tr>\n",
       "\t<tr><th scope=row>2</th><td>20</td><td>Female</td><td>Yes</td><td>High school         </td><td>In a relationship</td><td>1.63</td><td>68.62</td><td>69.23</td><td>68.92</td><td>0</td><td>0</td><td>0</td></tr>\n",
       "\t<tr><th scope=row>3</th><td>20</td><td>Female</td><td>Yes</td><td>Undergraduate Degree</td><td>In a relationship</td><td>2.97</td><td>77.46</td><td>80.77</td><td>79.12</td><td>0</td><td>0</td><td>0</td></tr>\n",
       "\t<tr><th scope=row>4</th><td>21</td><td>Male  </td><td>No </td><td>High school         </td><td>Single           </td><td>3.33</td><td>77.23</td><td>62.15</td><td>69.69</td><td>0</td><td>0</td><td>0</td></tr>\n",
       "\t<tr><th scope=row>5</th><td>19</td><td>Female</td><td>Yes</td><td>High school         </td><td>Single           </td><td>3.67</td><td>63.31</td><td>52.15</td><td>57.73</td><td>0</td><td>0</td><td>0</td></tr>\n",
       "\t<tr><th scope=row>6</th><td>19</td><td>Female</td><td>Yes</td><td>High school         </td><td>In a relationship</td><td>2.30</td><td>55.85</td><td>59.46</td><td>57.65</td><td>0</td><td>0</td><td>0</td></tr>\n",
       "</tbody>\n",
       "</table>\n"
      ],
      "text/latex": [
       "A data.frame: 6 × 12\n",
       "\\begin{tabular}{r|llllllllllll}\n",
       "  & Age & Sex & Heterosexual & Education & RelatonshipStatus & DPDR & Agency & Experience & Mind.Perception & Self.Agency & Self.Experience & Self.MP\\\\\n",
       "  & <dbl> & <chr> & <chr> & <chr> & <chr> & <dbl> & <dbl> & <dbl> & <dbl> & <int> & <int> & <dbl>\\\\\n",
       "\\hline\n",
       "\t1 & 19 & Female & No  & High school          & In a relationship & 4.10 & 56.69 & 58.31 & 57.50 & 0 & 0 & 0\\\\\n",
       "\t2 & 20 & Female & Yes & High school          & In a relationship & 1.63 & 68.62 & 69.23 & 68.92 & 0 & 0 & 0\\\\\n",
       "\t3 & 20 & Female & Yes & Undergraduate Degree & In a relationship & 2.97 & 77.46 & 80.77 & 79.12 & 0 & 0 & 0\\\\\n",
       "\t4 & 21 & Male   & No  & High school          & Single            & 3.33 & 77.23 & 62.15 & 69.69 & 0 & 0 & 0\\\\\n",
       "\t5 & 19 & Female & Yes & High school          & Single            & 3.67 & 63.31 & 52.15 & 57.73 & 0 & 0 & 0\\\\\n",
       "\t6 & 19 & Female & Yes & High school          & In a relationship & 2.30 & 55.85 & 59.46 & 57.65 & 0 & 0 & 0\\\\\n",
       "\\end{tabular}\n"
      ],
      "text/markdown": [
       "\n",
       "A data.frame: 6 × 12\n",
       "\n",
       "| <!--/--> | Age &lt;dbl&gt; | Sex &lt;chr&gt; | Heterosexual &lt;chr&gt; | Education &lt;chr&gt; | RelatonshipStatus &lt;chr&gt; | DPDR &lt;dbl&gt; | Agency &lt;dbl&gt; | Experience &lt;dbl&gt; | Mind.Perception &lt;dbl&gt; | Self.Agency &lt;int&gt; | Self.Experience &lt;int&gt; | Self.MP &lt;dbl&gt; |\n",
       "|---|---|---|---|---|---|---|---|---|---|---|---|---|\n",
       "| 1 | 19 | Female | No  | High school          | In a relationship | 4.10 | 56.69 | 58.31 | 57.50 | 0 | 0 | 0 |\n",
       "| 2 | 20 | Female | Yes | High school          | In a relationship | 1.63 | 68.62 | 69.23 | 68.92 | 0 | 0 | 0 |\n",
       "| 3 | 20 | Female | Yes | Undergraduate Degree | In a relationship | 2.97 | 77.46 | 80.77 | 79.12 | 0 | 0 | 0 |\n",
       "| 4 | 21 | Male   | No  | High school          | Single            | 3.33 | 77.23 | 62.15 | 69.69 | 0 | 0 | 0 |\n",
       "| 5 | 19 | Female | Yes | High school          | Single            | 3.67 | 63.31 | 52.15 | 57.73 | 0 | 0 | 0 |\n",
       "| 6 | 19 | Female | Yes | High school          | In a relationship | 2.30 | 55.85 | 59.46 | 57.65 | 0 | 0 | 0 |\n",
       "\n"
      ],
      "text/plain": [
       "  Age Sex    Heterosexual Education            RelatonshipStatus DPDR Agency\n",
       "1 19  Female No           High school          In a relationship 4.10 56.69 \n",
       "2 20  Female Yes          High school          In a relationship 1.63 68.62 \n",
       "3 20  Female Yes          Undergraduate Degree In a relationship 2.97 77.46 \n",
       "4 21  Male   No           High school          Single            3.33 77.23 \n",
       "5 19  Female Yes          High school          Single            3.67 63.31 \n",
       "6 19  Female Yes          High school          In a relationship 2.30 55.85 \n",
       "  Experience Mind.Perception Self.Agency Self.Experience Self.MP\n",
       "1 58.31      57.50           0           0               0      \n",
       "2 69.23      68.92           0           0               0      \n",
       "3 80.77      79.12           0           0               0      \n",
       "4 62.15      69.69           0           0               0      \n",
       "5 52.15      57.73           0           0               0      \n",
       "6 59.46      57.65           0           0               0      "
      ]
     },
     "metadata": {},
     "output_type": "display_data"
    }
   ],
   "source": [
    "data <- read.csv(\"DPDR.csv\")\n",
    "head(data)"
   ]
  },
  {
   "cell_type": "code",
   "execution_count": 3,
   "id": "e4235152-231e-4ed8-9619-f54f395ec954",
   "metadata": {},
   "outputs": [
    {
     "data": {
      "text/plain": [
       "\n",
       "Call:\n",
       "lm(formula = DPDR ~ ., data = data)\n",
       "\n",
       "Residuals:\n",
       "     Min       1Q   Median       3Q      Max \n",
       "-1.68252 -0.58935 -0.01147  0.52024  2.63531 \n",
       "\n",
       "Coefficients: (1 not defined because of singularities)\n",
       "                                      Estimate Std. Error t value Pr(>|t|)    \n",
       "(Intercept)                           4.593305   0.401491  11.441   <2e-16 ***\n",
       "Age                                  -0.034306   0.014415  -2.380   0.0178 *  \n",
       "SexMale                               0.097765   0.081413   1.201   0.2305    \n",
       "SexOther                              0.128138   0.323280   0.396   0.6920    \n",
       "HeterosexualYes                      -0.229276   0.094189  -2.434   0.0153 *  \n",
       "EducationMaster's or Graduate Degree  1.988197   0.794906   2.501   0.0128 *  \n",
       "EducationPost-Secondary Diploma       0.158493   0.154819   1.024   0.3065    \n",
       "EducationUndergraduate Degree         0.053644   0.103692   0.517   0.6052    \n",
       "RelatonshipStatusMarried              0.192489   0.399609   0.482   0.6303    \n",
       "RelatonshipStatusSeparated           -0.121294   0.876521  -0.138   0.8900    \n",
       "RelatonshipStatusSingle               0.062158   0.077596   0.801   0.4235    \n",
       "Agency                                2.329906   5.017918   0.464   0.6427    \n",
       "Experience                            2.340011   5.018062   0.466   0.6412    \n",
       "Mind.Perception                      -4.675602  10.035747  -0.466   0.6415    \n",
       "Self.Agency                          -0.006292   0.003396  -1.853   0.0646 .  \n",
       "Self.Experience                      -0.002312   0.003237  -0.714   0.4754    \n",
       "Self.MP                                     NA         NA      NA       NA    \n",
       "---\n",
       "Signif. codes:  0 ‘***’ 0.001 ‘**’ 0.01 ‘*’ 0.05 ‘.’ 0.1 ‘ ’ 1\n",
       "\n",
       "Residual standard error: 0.7559 on 429 degrees of freedom\n",
       "Multiple R-squared:  0.1447,\tAdjusted R-squared:  0.1148 \n",
       "F-statistic: 4.837 on 15 and 429 DF,  p-value: 9.99e-09\n"
      ]
     },
     "metadata": {},
     "output_type": "display_data"
    }
   ],
   "source": [
    "model <- lm(DPDR ~ ., data = data)\n",
    "summary(model)"
   ]
  },
  {
   "cell_type": "code",
   "execution_count": null,
   "id": "098c5509-6183-42e6-8329-5ab5ecb7e85c",
   "metadata": {},
   "outputs": [],
   "source": []
  }
 ],
 "metadata": {
  "kernelspec": {
   "display_name": "R",
   "language": "R",
   "name": "ir"
  },
  "language_info": {
   "codemirror_mode": "r",
   "file_extension": ".r",
   "mimetype": "text/x-r-source",
   "name": "R",
   "pygments_lexer": "r",
   "version": "4.4.1"
  }
 },
 "nbformat": 4,
 "nbformat_minor": 5
}
