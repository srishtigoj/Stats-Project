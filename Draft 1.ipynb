{
 "cells": [
  {
   "cell_type": "markdown",
   "id": "c14b11c9-8c0b-4e1b-9a91-690b03c803cc",
   "metadata": {},
   "source": [
    "Stats Project"
   ]
  },
  {
   "cell_type": "markdown",
   "id": "58b31413-47a8-47ce-9cc3-3ed9ef649adb",
   "metadata": {},
   "source": [
    "By : Alex Liu, Shaily Bajracharya, Srishti Gojamgunde"
   ]
  },
  {
   "cell_type": "code",
   "execution_count": 2,
   "id": "3b1dc0be-0743-4e87-a13c-176a2f9f898a",
   "metadata": {},
   "outputs": [],
   "source": [
    "data <- read.csv('Time-Wasters on Social Media.csv')"
   ]
  },
  {
   "cell_type": "code",
   "execution_count": 3,
   "id": "3e5ba25c-4463-407e-be67-16ac477d25b4",
   "metadata": {},
   "outputs": [
    {
     "data": {
      "text/plain": [
       "     UserID            Age           Gender            Location        \n",
       " Min.   :   1.0   Min.   :18.00   Length:1000        Length:1000       \n",
       " 1st Qu.: 250.8   1st Qu.:29.00   Class :character   Class :character  \n",
       " Median : 500.5   Median :42.00   Mode  :character   Mode  :character  \n",
       " Mean   : 500.5   Mean   :40.99                                        \n",
       " 3rd Qu.: 750.2   3rd Qu.:52.00                                        \n",
       " Max.   :1000.0   Max.   :64.00                                        \n",
       "     Income         Debt         Owns.Property    Profession       \n",
       " Min.   :20138   Mode :logical   Mode :logical   Length:1000       \n",
       " 1st Qu.:38675   FALSE:401       FALSE:458       Class :character  \n",
       " Median :58805   TRUE :599       TRUE :542       Mode  :character  \n",
       " Mean   :59524                                                     \n",
       " 3rd Qu.:79792                                                     \n",
       " Max.   :99676                                                     \n",
       " Demographics         Platform         Total.Time.Spent Number.of.Sessions\n",
       " Length:1000        Length:1000        Min.   : 10.0    Min.   : 1.00     \n",
       " Class :character   Class :character   1st Qu.: 78.0    1st Qu.: 6.00     \n",
       " Mode  :character   Mode  :character   Median :152.0    Median :10.00     \n",
       "                                       Mean   :151.4    Mean   :10.01     \n",
       "                                       3rd Qu.:223.0    3rd Qu.:15.00     \n",
       "                                       Max.   :298.0    Max.   :19.00     \n",
       "    Video.ID    Video.Category      Video.Length     Engagement  \n",
       " Min.   :  11   Length:1000        Min.   : 1.00   Min.   :  15  \n",
       " 1st Qu.:2542   Class :character   1st Qu.: 8.00   1st Qu.:2416  \n",
       " Median :4720   Mode  :character   Median :15.00   Median :5016  \n",
       " Mean   :4892                      Mean   :15.21   Mean   :4997  \n",
       " 3rd Qu.:7346                      3rd Qu.:22.00   3rd Qu.:7540  \n",
       " Max.   :9997                      Max.   :29.00   Max.   :9982  \n",
       " Importance.Score Time.Spent.On.Video Number.of.Videos.Watched  Scroll.Rate   \n",
       " Min.   :1.000    Min.   : 1.00       Min.   : 1.00            Min.   : 1.00  \n",
       " 1st Qu.:3.000    1st Qu.: 8.00       1st Qu.:14.00            1st Qu.:23.00  \n",
       " Median :5.000    Median :15.00       Median :25.00            Median :50.00  \n",
       " Mean   :5.129    Mean   :14.97       Mean   :25.25            Mean   :49.77  \n",
       " 3rd Qu.:7.000    3rd Qu.:22.00       3rd Qu.:37.00            3rd Qu.:74.00  \n",
       " Max.   :9.000    Max.   :29.00       Max.   :49.00            Max.   :99.00  \n",
       "  Frequency         ProductivityLoss  Satisfaction   Watch.Reason      \n",
       " Length:1000        Min.   :1.000    Min.   :1.000   Length:1000       \n",
       " Class :character   1st Qu.:3.000    1st Qu.:4.000   Class :character  \n",
       " Mode  :character   Median :5.000    Median :5.000   Mode  :character  \n",
       "                    Mean   :5.136    Mean   :4.864                     \n",
       "                    3rd Qu.:6.000    3rd Qu.:7.000                     \n",
       "                    Max.   :9.000    Max.   :9.000                     \n",
       "  DeviceType             OS             Watch.Time         Self.Control   \n",
       " Length:1000        Length:1000        Length:1000        Min.   : 3.000  \n",
       " Class :character   Class :character   Class :character   1st Qu.: 5.000  \n",
       " Mode  :character   Mode  :character   Mode  :character   Median : 7.000  \n",
       "                                                          Mean   : 7.094  \n",
       "                                                          3rd Qu.: 8.000  \n",
       "                                                          Max.   :10.000  \n",
       " Addiction.Level CurrentActivity    ConnectionType    \n",
       " Min.   :0.000   Length:1000        Length:1000       \n",
       " 1st Qu.:2.000   Class :character   Class :character  \n",
       " Median :3.000   Mode  :character   Mode  :character  \n",
       " Mean   :2.906                                        \n",
       " 3rd Qu.:5.000                                        \n",
       " Max.   :7.000                                        "
      ]
     },
     "metadata": {},
     "output_type": "display_data"
    }
   ],
   "source": [
    "summary(data)"
   ]
  },
  {
   "cell_type": "code",
   "execution_count": 5,
   "id": "e10dc089-021c-487f-a309-55b55724f942",
   "metadata": {},
   "outputs": [
    {
     "name": "stdout",
     "output_type": "stream",
     "text": [
      "[1] \"Categorical columns:\"\n",
      " [1] \"Gender\"          \"Location\"        \"Profession\"      \"Demographics\"   \n",
      " [5] \"Platform\"        \"Video.Category\"  \"Frequency\"       \"Watch.Reason\"   \n",
      " [9] \"DeviceType\"      \"OS\"              \"Watch.Time\"      \"CurrentActivity\"\n",
      "[13] \"ConnectionType\" \n"
     ]
    }
   ],
   "source": [
    "categorical <- names(data)[sapply(data, function(x) is.character(x) | is.factor(x))]\n",
    "print(\"Categorical columns:\")\n",
    "print(categorical)"
   ]
  },
  {
   "cell_type": "code",
   "execution_count": 10,
   "id": "bd46e53b-f3be-4f2f-b262-e7335c386d5f",
   "metadata": {},
   "outputs": [
    {
     "name": "stderr",
     "output_type": "stream",
     "text": [
      "── \u001b[1mAttaching packages\u001b[22m ─────────────────────────────────────── tidyverse 1.3.0 ──\n",
      "\n",
      "\u001b[32m✔\u001b[39m \u001b[34mggplot2\u001b[39m 3.5.1     \u001b[32m✔\u001b[39m \u001b[34mpurrr  \u001b[39m 1.0.2\n",
      "\u001b[32m✔\u001b[39m \u001b[34mtibble \u001b[39m 3.2.1     \u001b[32m✔\u001b[39m \u001b[34mdplyr  \u001b[39m 1.1.4\n",
      "\u001b[32m✔\u001b[39m \u001b[34mtidyr  \u001b[39m 1.3.1     \u001b[32m✔\u001b[39m \u001b[34mstringr\u001b[39m 1.5.1\n",
      "\u001b[32m✔\u001b[39m \u001b[34mreadr  \u001b[39m 2.1.5     \u001b[32m✔\u001b[39m \u001b[34mforcats\u001b[39m 1.0.0\n",
      "\n",
      "── \u001b[1mConflicts\u001b[22m ────────────────────────────────────────── tidyverse_conflicts() ──\n",
      "\u001b[31m✖\u001b[39m \u001b[34mdplyr\u001b[39m::\u001b[32mfilter()\u001b[39m masks \u001b[34mstats\u001b[39m::filter()\n",
      "\u001b[31m✖\u001b[39m \u001b[34mdplyr\u001b[39m::\u001b[32mlag()\u001b[39m    masks \u001b[34mstats\u001b[39m::lag()\n",
      "\n"
     ]
    }
   ],
   "source": [
    "library(tidyverse)"
   ]
  },
  {
   "cell_type": "code",
   "execution_count": 15,
   "id": "231f81a6-eeaa-4618-af8b-81cb554e0028",
   "metadata": {},
   "outputs": [
    {
     "name": "stdout",
     "output_type": "stream",
     "text": [
      "\n",
      "Unique values in Gender : 3 values\n",
      "[1] \"Male\"   \"Female\" \"Other\" \n",
      "\n",
      "Unique values in Location : 10 values\n",
      " [1] \"Pakistan\"      \"Mexico\"        \"United States\" \"Barzil\"       \n",
      " [5] \"Vietnam\"       \"India\"         \"Indonesia\"     \"Philippines\"  \n",
      " [9] \"Japan\"         \"Germany\"      \n",
      "\n",
      "Unique values in Profession : 9 values\n",
      "[1] \"Engineer\"      \"Artist\"        \"Waiting staff\" \"Manager\"      \n",
      "[5] \"driver\"        \"Students\"      \"Labor/Worker\"  \"Cashier\"      \n",
      "[9] \"Teacher\"      \n",
      "\n",
      "Unique values in Demographics : 2 values\n",
      "[1] \"Rural\" \"Urban\"\n",
      "\n",
      "Unique values in Platform : 4 values\n",
      "[1] \"Instagram\" \"Facebook\"  \"YouTube\"   \"TikTok\"   \n",
      "\n",
      "Unique values in Video.Category : 9 values\n",
      "[1] \"Pranks\"        \"Vlogs\"         \"Gaming\"        \"Jokes/Memes\"  \n",
      "[5] \"Entertainment\" \"ASMR\"          \"Life Hacks\"    \"Trends\"       \n",
      "[9] \"Comedy\"       \n",
      "\n",
      "Unique values in Frequency : 4 values\n",
      "[1] \"Night\"     \"Afternoon\" \"Evening\"   \"Morning\"  \n",
      "\n",
      "Unique values in Watch.Reason : 4 values\n",
      "[1] \"Procrastination\" \"Habit\"           \"Entertainment\"   \"Boredom\"        \n",
      "\n",
      "Unique values in DeviceType : 3 values\n",
      "[1] \"Smartphone\" \"Computer\"   \"Tablet\"    \n",
      "\n",
      "Unique values in OS : 4 values\n",
      "[1] \"Android\" \"iOS\"     \"MacOS\"   \"Windows\"\n",
      "\n",
      "Unique values in Watch.Time : 16 values\n",
      " [1] \"9:00 PM\"  \"5:00 PM\"  \"2:00 PM\"  \"8:00 AM\"  \"8:30 PM\"  \"3:45 PM\" \n",
      " [7] \"6:05 PM\"  \"9:15 AM\"  \"7:45 AM\"  \"7:25 PM\"  \"3:55 PM\"  \"11:30 PM\"\n",
      "[13] \"10:15 PM\" \"9:55 AM\"  \"4:25 PM\"  \"5:45 PM\" \n",
      "\n",
      "Unique values in CurrentActivity : 4 values\n",
      "[1] \"Commuting\" \"At school\" \"At home\"   \"At work\"  \n",
      "\n",
      "Unique values in ConnectionType : 2 values\n",
      "[1] \"Mobile Data\" \"Wi-Fi\"      \n"
     ]
    }
   ],
   "source": [
    "for(col in categorical) {\n",
    "    cat(\"\\nUnique values in\", col, \":\", length(unique(data[[col]])), \"values\\n\")\n",
    "    print(unique(data[[col]]))\n",
    "}"
   ]
  },
  {
   "cell_type": "code",
   "execution_count": 19,
   "id": "d616b0e9-7f5e-415d-a14d-d71fc4b75d7d",
   "metadata": {},
   "outputs": [
    {
     "name": "stderr",
     "output_type": "stream",
     "text": [
      "Installing package into ‘/srv/r’\n",
      "(as ‘lib’ is unspecified)\n",
      "\n"
     ]
    }
   ],
   "source": [
    "install.packages('lubridate')\n",
    "library(lubridate)"
   ]
  },
  {
   "cell_type": "code",
   "execution_count": 24,
   "id": "9851a925-83d3-49a2-aba5-085895cb35be",
   "metadata": {},
   "outputs": [
    {
     "ename": "ERROR",
     "evalue": "\u001b[1m\u001b[33mError\u001b[39m in `abort_lossy_cast()`:\u001b[22m\n\u001b[33m!\u001b[39m Lossy cast from <character> to <hms> at position(s) 1\n",
     "output_type": "error",
     "traceback": [
      "\u001b[1m\u001b[33mError\u001b[39m in `abort_lossy_cast()`:\u001b[22m\n\u001b[33m!\u001b[39m Lossy cast from <character> to <hms> at position(s) 1\nTraceback:\n",
      "1. as_hms.default(val)",
      "2. vec_cast(x, new_hms())",
      "3. (function () \n . vec_cast.hms.character(x = x, to = to, x_arg = x_arg, to_arg = to_arg, \n .     call = call))()",
      "4. vec_cast.hms.character(x = x, to = to, x_arg = x_arg, to_arg = to_arg, \n .     call = call)",
      "5. abort_lossy_cast(x, to, ..., lossy = lossy)",
      "6. abort(paste0(\"Lossy cast from <character> to <hms> at position(s) \", \n .     commas(problems)))",
      "7. signal_abort(cnd, .file)",
      "8. signalCondition(cnd)"
     ]
    }
   ],
   "source": [
    "for (val in data$Watch.Time){\n",
    "    time_only <- hms::as_hms(val)\n",
    "    }"
   ]
  },
  {
   "cell_type": "markdown",
   "id": "9bb8660c-dea6-4899-81be-f1415d4f3a3b",
   "metadata": {},
   "source": [
    "## Background Research "
   ]
  },
  {
   "cell_type": "markdown",
   "id": "81ca8334-ea9b-4f6d-993b-cbca686525a6",
   "metadata": {},
   "source": [
    "Links to be turned into refs (APA?):\n",
    "https://www.sciencedirect.com/science/article/abs/pii/S0092656620300933\n"
   ]
  }
 ],
 "metadata": {
  "kernelspec": {
   "display_name": "R",
   "language": "R",
   "name": "ir"
  },
  "language_info": {
   "codemirror_mode": "r",
   "file_extension": ".r",
   "mimetype": "text/x-r-source",
   "name": "R",
   "pygments_lexer": "r",
   "version": "4.4.1"
  }
 },
 "nbformat": 4,
 "nbformat_minor": 5
}
